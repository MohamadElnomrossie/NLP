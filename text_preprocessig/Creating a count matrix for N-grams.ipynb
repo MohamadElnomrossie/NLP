{
 "cells": [
  {
   "cell_type": "code",
   "execution_count": 2,
   "metadata": {},
   "outputs": [],
   "source": [
    "import pandas as pd\n",
    "import numpy as np\n",
    "import nltk\n",
    "from nltk import sent_tokenize,word_tokenize\n",
    "from collections import defaultdict\n",
    "import re"
   ]
  },
  {
   "cell_type": "code",
   "execution_count": 6,
   "metadata": {},
   "outputs": [],
   "source": [
    "text='i am happy because i am learning .'\n",
    "corpus = word_tokenize(text)"
   ]
  },
  {
   "cell_type": "code",
   "execution_count": 862,
   "metadata": {},
   "outputs": [],
   "source": [
    "def create_n_grams(text,N, start_tags=True,end_tags=True):\n",
    "\n",
    "    t=sent_tokenize(text)\n",
    "    ngrams=[]\n",
    "    for sent in t:\n",
    "        tok_sent=word_tokenize(sent)\n",
    "        if start_tags and end_tags:\n",
    "            tok_sent=['<s>']*(N-1)+tok_sent+['</s>']\n",
    "        elif start_tags==True and end_tags==False:\n",
    "            tok_sent=['<s>']*(N-1)+tok_sent\n",
    "        elif start_tags==False and end_tags==True:\n",
    "            tok_sent=tok_sent+['</s>']\n",
    "        for i in range(len(tok_sent)-N+1):\n",
    "            ngrams.append(tuple(tok_sent[i:i+N]))\n",
    "    return ngrams"
   ]
  },
  {
   "cell_type": "code",
   "execution_count": 883,
   "metadata": {},
   "outputs": [],
   "source": [
    "bi_grams=create_n_grams(text,2, start_tags=True,end_tags=True)"
   ]
  },
  {
   "cell_type": "code",
   "execution_count": 884,
   "metadata": {},
   "outputs": [
    {
     "data": {
      "text/plain": [
       "[('<s>', 'i'),\n",
       " ('i', 'am'),\n",
       " ('am', 'happy'),\n",
       " ('happy', 'because'),\n",
       " ('because', 'i'),\n",
       " ('i', 'am'),\n",
       " ('am', 'learning'),\n",
       " ('learning', '.'),\n",
       " ('.', '</s>')]"
      ]
     },
     "execution_count": 884,
     "metadata": {},
     "output_type": "execute_result"
    }
   ],
   "source": [
    "bi_grams"
   ]
  },
  {
   "cell_type": "code",
   "execution_count": 885,
   "metadata": {},
   "outputs": [],
   "source": [
    "tri_grams=create_n_grams(text,3, start_tags=True,end_tags=True)"
   ]
  },
  {
   "cell_type": "code",
   "execution_count": 886,
   "metadata": {},
   "outputs": [
    {
     "data": {
      "text/plain": [
       "[('<s>', '<s>', 'i'),\n",
       " ('<s>', 'i', 'am'),\n",
       " ('i', 'am', 'happy'),\n",
       " ('am', 'happy', 'because'),\n",
       " ('happy', 'because', 'i'),\n",
       " ('because', 'i', 'am'),\n",
       " ('i', 'am', 'learning'),\n",
       " ('am', 'learning', '.'),\n",
       " ('learning', '.', '</s>')]"
      ]
     },
     "execution_count": 886,
     "metadata": {},
     "output_type": "execute_result"
    }
   ],
   "source": [
    "tri_grams"
   ]
  },
  {
   "cell_type": "code",
   "execution_count": 887,
   "metadata": {},
   "outputs": [],
   "source": [
    "te=[]\n",
    "for i in range(len(bi_grams)):\n",
    "    te.append(\" \".join(bi_grams[i]))\n",
    "vocab=sorted(set(\" \".join(te).split()))\n",
    "#to get the unique words in the corpus"
   ]
  },
  {
   "cell_type": "code",
   "execution_count": 888,
   "metadata": {},
   "outputs": [],
   "source": [
    "#to calculate the probability matrix\n",
    "d=defaultdict(list)\n",
    "for i in range(len(bi_grams)):\n",
    "    try:\n",
    "        d[bi_grams[i]].append(tri_grams[i+1][-1])\n",
    "    except IndexError:\n",
    "        d[bi_grams[i]].append(tri_grams[i][-1])"
   ]
  },
  {
   "cell_type": "code",
   "execution_count": 889,
   "metadata": {},
   "outputs": [],
   "source": [
    "#initialize the matrix\n",
    "matrix=np.zeros(shape=(len(d.keys()),len(vocab)))"
   ]
  },
  {
   "cell_type": "code",
   "execution_count": 890,
   "metadata": {},
   "outputs": [],
   "source": [
    "#fill in the matrix with the count of every word appearing after \n",
    "#each ngram\n",
    "keys=list(d.keys())\n",
    "for key in keys:\n",
    "    gram=keys.index(key)\n",
    "    for word in d[key]:\n",
    "        count=0\n",
    "        idx=vocab.index(word)\n",
    "        count+=1\n",
    "        matrix[gram,idx]=count"
   ]
  },
  {
   "cell_type": "code",
   "execution_count": 891,
   "metadata": {},
   "outputs": [],
   "source": [
    "sum_rows=matrix.sum(axis=1,keepdims=True)\n",
    "matrix=np.divide(matrix,sum_rows)"
   ]
  },
  {
   "cell_type": "code",
   "execution_count": 892,
   "metadata": {},
   "outputs": [],
   "source": [
    "df=pd.DataFrame(matrix,index=list(d.keys()),columns=vocab)"
   ]
  },
  {
   "cell_type": "code",
   "execution_count": 896,
   "metadata": {},
   "outputs": [
    {
     "data": {
      "text/html": [
       "<div>\n",
       "<style scoped>\n",
       "    .dataframe tbody tr th:only-of-type {\n",
       "        vertical-align: middle;\n",
       "    }\n",
       "\n",
       "    .dataframe tbody tr th {\n",
       "        vertical-align: top;\n",
       "    }\n",
       "\n",
       "    .dataframe thead th {\n",
       "        text-align: right;\n",
       "    }\n",
       "</style>\n",
       "<table border=\"1\" class=\"dataframe\">\n",
       "  <thead>\n",
       "    <tr style=\"text-align: right;\">\n",
       "      <th></th>\n",
       "      <th>.</th>\n",
       "      <th>&lt;/s&gt;</th>\n",
       "      <th>&lt;s&gt;</th>\n",
       "      <th>am</th>\n",
       "      <th>because</th>\n",
       "      <th>happy</th>\n",
       "      <th>i</th>\n",
       "      <th>learning</th>\n",
       "    </tr>\n",
       "  </thead>\n",
       "  <tbody>\n",
       "    <tr>\n",
       "      <th>(&lt;s&gt;, i)</th>\n",
       "      <td>0.0</td>\n",
       "      <td>0.0</td>\n",
       "      <td>0.0</td>\n",
       "      <td>1.0</td>\n",
       "      <td>0.0</td>\n",
       "      <td>0.0</td>\n",
       "      <td>0.0</td>\n",
       "      <td>0.0</td>\n",
       "    </tr>\n",
       "    <tr>\n",
       "      <th>(i, am)</th>\n",
       "      <td>0.0</td>\n",
       "      <td>0.0</td>\n",
       "      <td>0.0</td>\n",
       "      <td>0.0</td>\n",
       "      <td>0.0</td>\n",
       "      <td>0.5</td>\n",
       "      <td>0.0</td>\n",
       "      <td>0.5</td>\n",
       "    </tr>\n",
       "    <tr>\n",
       "      <th>(am, happy)</th>\n",
       "      <td>0.0</td>\n",
       "      <td>0.0</td>\n",
       "      <td>0.0</td>\n",
       "      <td>0.0</td>\n",
       "      <td>1.0</td>\n",
       "      <td>0.0</td>\n",
       "      <td>0.0</td>\n",
       "      <td>0.0</td>\n",
       "    </tr>\n",
       "    <tr>\n",
       "      <th>(happy, because)</th>\n",
       "      <td>0.0</td>\n",
       "      <td>0.0</td>\n",
       "      <td>0.0</td>\n",
       "      <td>0.0</td>\n",
       "      <td>0.0</td>\n",
       "      <td>0.0</td>\n",
       "      <td>1.0</td>\n",
       "      <td>0.0</td>\n",
       "    </tr>\n",
       "    <tr>\n",
       "      <th>(because, i)</th>\n",
       "      <td>0.0</td>\n",
       "      <td>0.0</td>\n",
       "      <td>0.0</td>\n",
       "      <td>1.0</td>\n",
       "      <td>0.0</td>\n",
       "      <td>0.0</td>\n",
       "      <td>0.0</td>\n",
       "      <td>0.0</td>\n",
       "    </tr>\n",
       "    <tr>\n",
       "      <th>(am, learning)</th>\n",
       "      <td>1.0</td>\n",
       "      <td>0.0</td>\n",
       "      <td>0.0</td>\n",
       "      <td>0.0</td>\n",
       "      <td>0.0</td>\n",
       "      <td>0.0</td>\n",
       "      <td>0.0</td>\n",
       "      <td>0.0</td>\n",
       "    </tr>\n",
       "    <tr>\n",
       "      <th>(learning, .)</th>\n",
       "      <td>0.0</td>\n",
       "      <td>1.0</td>\n",
       "      <td>0.0</td>\n",
       "      <td>0.0</td>\n",
       "      <td>0.0</td>\n",
       "      <td>0.0</td>\n",
       "      <td>0.0</td>\n",
       "      <td>0.0</td>\n",
       "    </tr>\n",
       "    <tr>\n",
       "      <th>(., &lt;/s&gt;)</th>\n",
       "      <td>0.0</td>\n",
       "      <td>1.0</td>\n",
       "      <td>0.0</td>\n",
       "      <td>0.0</td>\n",
       "      <td>0.0</td>\n",
       "      <td>0.0</td>\n",
       "      <td>0.0</td>\n",
       "      <td>0.0</td>\n",
       "    </tr>\n",
       "  </tbody>\n",
       "</table>\n",
       "</div>"
      ],
      "text/plain": [
       "                    .  </s>  <s>   am  because  happy    i  learning\n",
       "(<s>, i)          0.0   0.0  0.0  1.0      0.0    0.0  0.0       0.0\n",
       "(i, am)           0.0   0.0  0.0  0.0      0.0    0.5  0.0       0.5\n",
       "(am, happy)       0.0   0.0  0.0  0.0      1.0    0.0  0.0       0.0\n",
       "(happy, because)  0.0   0.0  0.0  0.0      0.0    0.0  1.0       0.0\n",
       "(because, i)      0.0   0.0  0.0  1.0      0.0    0.0  0.0       0.0\n",
       "(am, learning)    1.0   0.0  0.0  0.0      0.0    0.0  0.0       0.0\n",
       "(learning, .)     0.0   1.0  0.0  0.0      0.0    0.0  0.0       0.0\n",
       "(., </s>)         0.0   1.0  0.0  0.0      0.0    0.0  0.0       0.0"
      ]
     },
     "execution_count": 896,
     "metadata": {},
     "output_type": "execute_result"
    }
   ],
   "source": [
    "df"
   ]
  }
 ],
 "metadata": {
  "kernelspec": {
   "display_name": "Python 3",
   "language": "python",
   "name": "python3"
  },
  "language_info": {
   "codemirror_mode": {
    "name": "ipython",
    "version": 3
   },
   "file_extension": ".py",
   "mimetype": "text/x-python",
   "name": "python",
   "nbconvert_exporter": "python",
   "pygments_lexer": "ipython3",
   "version": "3.8.3"
  }
 },
 "nbformat": 4,
 "nbformat_minor": 4
}
